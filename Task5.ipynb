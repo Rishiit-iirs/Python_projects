{
 "cells": [
  {
   "cell_type": "code",
   "execution_count": 1,
   "metadata": {
    "collapsed": true
   },
   "outputs": [],
   "source": [
    "#Sigmoid Function using numpy\n",
    "import numpy as np\n",
    "\n",
    "def sigmoid(x):\n",
    "    return 1.0/(1.0+np.exp(-x))"
   ]
  },
  {
   "cell_type": "code",
   "execution_count": 2,
   "metadata": {
    "collapsed": false
   },
   "outputs": [
    {
     "name": "stdout",
     "output_type": "stream",
     "text": [
      "0.622459331202\n"
     ]
    }
   ],
   "source": [
    "print(sigmoid(0.5))"
   ]
  },
  {
   "cell_type": "code",
   "execution_count": 3,
   "metadata": {
    "collapsed": false
   },
   "outputs": [
    {
     "name": "stdout",
     "output_type": "stream",
     "text": [
      "0.73105857863\n"
     ]
    }
   ],
   "source": [
    "print(sigmoid(1.0))"
   ]
  },
  {
   "cell_type": "code",
   "execution_count": 4,
   "metadata": {
    "collapsed": false
   },
   "outputs": [
    {
     "name": "stdout",
     "output_type": "stream",
     "text": [
      "sigmoid activation function on(1.0)gives 0.7\n"
     ]
    }
   ],
   "source": [
    "x1=1\n",
    "print(\"sigmoid activation function on(%.1f)gives %.1f\" %(x1,sigmoid(x1)))"
   ]
  },
  {
   "cell_type": "code",
   "execution_count": 22,
   "metadata": {
    "collapsed": false
   },
   "outputs": [],
   "source": [
    "import numpy as np\n",
    "import matplotlib.pyplot as plt\n",
    "x = np.linspace(-5, 5, 200)   \n",
    "p = sigmoid(x)\n",
    "plt.xlabel(\"x\") \n",
    "plt.ylabel(\"Sigmoid(x)\")  \n",
    "plt.plot(x, p) \n",
    "plt.show()"
   ]
  },
  {
   "cell_type": "code",
   "execution_count": 6,
   "metadata": {
    "collapsed": true
   },
   "outputs": [],
   "source": [
    "X1=np.array([[1,2],[1,1]])"
   ]
  },
  {
   "cell_type": "code",
   "execution_count": 8,
   "metadata": {
    "collapsed": false
   },
   "outputs": [
    {
     "name": "stdout",
     "output_type": "stream",
     "text": [
      "[[ 0.73105858  0.88079708]\n",
      " [ 0.73105858  0.73105858]]\n"
     ]
    }
   ],
   "source": [
    "print(sigmoid(X1))"
   ]
  },
  {
   "cell_type": "code",
   "execution_count": 10,
   "metadata": {
    "collapsed": false
   },
   "outputs": [
    {
     "data": {
      "text/plain": [
       "array([[1, 2],\n",
       "       [1, 1]])"
      ]
     },
     "execution_count": 10,
     "metadata": {},
     "output_type": "execute_result"
    }
   ],
   "source": [
    "X1"
   ]
  },
  {
   "cell_type": "code",
   "execution_count": 11,
   "metadata": {
    "collapsed": true
   },
   "outputs": [],
   "source": [
    "import numpy as np \n",
    "import matplotlib.pyplot as plt \n",
    " \n",
    "inp = np.linspace(-np.pi, np.pi, 24) \n",
    "opt = np.sin(inp) \n",
    " \n",
    "plt.plot(inp, opt, color = 'blue', marker = \"o\") \n",
    "plt.title(\"numpy.sin()\") \n",
    "plt.show() "
   ]
  },
  {
   "cell_type": "code",
   "execution_count": 12,
   "metadata": {
    "collapsed": false
   },
   "outputs": [
    {
     "name": "stdout",
     "output_type": "stream",
     "text": [
      "Input array  :\n",
      " [-1.   0.   0.3  0.5  0.6  0.9  1. ]\n"
     ]
    }
   ],
   "source": [
    "\n",
    "input=np.array([-1,0,0.3,0.5,0.6,0.9,1])\n",
    "print(\"Input array  :\\n\",input)"
   ]
  },
  {
   "cell_type": "code",
   "execution_count": 13,
   "metadata": {
    "collapsed": false
   },
   "outputs": [
    {
     "name": "stdout",
     "output_type": "stream",
     "text": [
      "\n",
      " Inverse Sine values:  \n",
      " [-1.57079633  0.          0.30469265  0.52359878  0.64350111  1.11976951\n",
      "  1.57079633]\n"
     ]
    }
   ],
   "source": [
    "opt=np.arcsin(input)\n",
    "print(\"\\n Inverse Sine values:  \\n\",opt)"
   ]
  },
  {
   "cell_type": "code",
   "execution_count": 35,
   "metadata": {
    "collapsed": false
   },
   "outputs": [
    {
     "data": {
      "text/plain": [
       "[-1, 0, 0.3, 0.5, 0.6, 0.9, 1]"
      ]
     },
     "execution_count": 35,
     "metadata": {},
     "output_type": "execute_result"
    }
   ],
   "source": []
  },
  {
   "cell_type": "code",
   "execution_count": 37,
   "metadata": {
    "collapsed": true
   },
   "outputs": [],
   "source": [
    "input=np.array([-1,0,0.3,0.5,0.6,0.9,1])\n"
   ]
  },
  {
   "cell_type": "code",
   "execution_count": 38,
   "metadata": {
    "collapsed": false
   },
   "outputs": [
    {
     "name": "stdout",
     "output_type": "stream",
     "text": [
      "Input array  :\n",
      " [-1.   0.   0.3  0.5  0.6  0.9  1. ]\n"
     ]
    }
   ],
   "source": [
    "print(\"Input array  :\\n\",input)"
   ]
  },
  {
   "cell_type": "code",
   "execution_count": 42,
   "metadata": {
    "collapsed": false
   },
   "outputs": [
    {
     "name": "stdout",
     "output_type": "stream",
     "text": [
      "\n",
      " Inverse Sine values: \n",
      " [-1.57079633  0.          0.30469265  0.52359878  0.64350111  1.11976951\n",
      "  1.57079633]\n"
     ]
    }
   ],
   "source": [
    "opt=np.arcsin(input)\n",
    "print(\"\\n Inverse Sine values: \\n\",opt)"
   ]
  },
  {
   "cell_type": "code",
   "execution_count": 15,
   "metadata": {
    "collapsed": false
   },
   "outputs": [
    {
     "name": "stdout",
     "output_type": "stream",
     "text": [
      "[  7.38905610e+00   5.45981500e+01   4.03428793e+02   2.98095799e+03\n",
      "   2.20264658e+04]\n"
     ]
    }
   ],
   "source": [
    "#Create an I-D array\n",
    "arr=[2,4,6,8,10]\n",
    "# Get the exponential values of multiple elements\n",
    "arr2=np.exp(arr)\n",
    "print(arr2)"
   ]
  },
  {
   "cell_type": "code",
   "execution_count": 21,
   "metadata": {
    "collapsed": false
   },
   "outputs": [],
   "source": [
    "#use numpy.exp() to graphical representation\n",
    "import numpy as np\n",
    "import matplotlib.pyplot as plt\n",
    "\n",
    "array=[1,1.2,1.6,1.8,2,3,3.5,4,5,6]\n",
    "out_array=np.exp(array)\n",
    "array1=[1,1.2,1.5,1.9,2.4,4.8,5.2,5.8,6,6.5]\n",
    "plt.plot(array,array1,color='blue',marker=\"*\")\n",
    "\n",
    "plt.plot(out_array,array1,color='red',marker=\"o\")\n",
    "plt.title(\"numpy.exp()\")\n",
    "plt.xlabel(\"X\")\n",
    "plt.ylabel(\"Y\")\n",
    "plt.show()\n"
   ]
  },
  {
   "cell_type": "code",
   "execution_count": null,
   "metadata": {
    "collapsed": true
   },
   "outputs": [],
   "source": []
  }
 ],
 "metadata": {
  "kernelspec": {
   "display_name": "Python 3",
   "language": "python",
   "name": "python3"
  },
  "language_info": {
   "codemirror_mode": {
    "name": "ipython",
    "version": 3
   },
   "file_extension": ".py",
   "mimetype": "text/x-python",
   "name": "python",
   "nbconvert_exporter": "python",
   "pygments_lexer": "ipython3",
   "version": "3.5.1"
  }
 },
 "nbformat": 4,
 "nbformat_minor": 0
}
