{
 "cells": [
  {
   "cell_type": "code",
   "execution_count": 1,
   "metadata": {
    "collapsed": true,
    "slideshow": {
     "slide_type": "slide"
    }
   },
   "outputs": [],
   "source": [
    "#System Of Linear Equations in python\n",
    "     #2x+2y+3z+2w=-2\n",
    "     # 2y+w=0\n",
    "     # 4x-3y+w=-7   \n",
    "     # 6x+y-6z-5w=6\n",
    "import numpy as np"
   ]
  },
  {
   "cell_type": "code",
   "execution_count": 2,
   "metadata": {
    "collapsed": false
   },
   "outputs": [],
   "source": [
    "A=np.array([[2,2,3,2],[0,2,0,1],[4,-3,0,1],[6,1,-6,-5]])\n",
    "b=np.array([-2,0,-7,6])"
   ]
  },
  {
   "cell_type": "markdown",
   "metadata": {
    "collapsed": true
   },
   "source": [
    "X=np.linalg.solve(A,b)"
   ]
  },
  {
   "cell_type": "code",
   "execution_count": 4,
   "metadata": {
    "collapsed": false
   },
   "outputs": [
    {
     "name": "stdout",
     "output_type": "stream",
     "text": [
      "[-0.5         1.          0.33333333 -2.        ]\n"
     ]
    }
   ],
   "source": [
    "X=np.linalg.solve(A,b)\n",
    "print(X)"
   ]
  },
  {
   "cell_type": "code",
   "execution_count": 6,
   "metadata": {
    "collapsed": false
   },
   "outputs": [],
   "source": [
    "#Solve the above equations using matrix inversion approach\n",
    "A_inv=np.linalg.inv(A)\n",
    "X1=np.dot(A_inv,b)"
   ]
  },
  {
   "cell_type": "code",
   "execution_count": 7,
   "metadata": {
    "collapsed": false
   },
   "outputs": [
    {
     "name": "stdout",
     "output_type": "stream",
     "text": [
      "[[ 0.12820513 -0.02564103  0.08974359  0.06410256]\n",
      " [ 0.1025641   0.17948718 -0.12820513  0.05128205]\n",
      " [ 0.31623932 -0.52991453 -0.14529915 -0.00854701]\n",
      " [-0.20512821  0.64102564  0.25641026 -0.1025641 ]]\n",
      "[-0.5         1.          0.33333333 -2.        ]\n"
     ]
    }
   ],
   "source": [
    "print(A_inv)\n",
    "\n",
    "print(X1)\n"
   ]
  },
  {
   "cell_type": "code",
   "execution_count": 68,
   "metadata": {
    "collapsed": true
   },
   "outputs": [],
   "source": [
    "#Perform the LU Decomposition of the above matrix\n",
    "from scipy.linalg import lu"
   ]
  },
  {
   "cell_type": "code",
   "execution_count": 16,
   "metadata": {
    "collapsed": false
   },
   "outputs": [
    {
     "name": "stdout",
     "output_type": "stream",
     "text": [
      "P: \n",
      " [[ 0.  0.  0.  1.]\n",
      " [ 0.  0.  1.  0.]\n",
      " [ 0.  1.  0.  0.]\n",
      " [ 1.  0.  0.  0.]]\n",
      "L: \n",
      " [[ 1.          0.          0.          0.        ]\n",
      " [ 0.66666667  1.          0.          0.        ]\n",
      " [ 0.33333333 -0.45454545  1.          0.        ]\n",
      " [ 0.         -0.54545455  0.32        1.        ]]\n",
      "U: \n",
      " [[ 6.          1.         -6.         -5.        ]\n",
      " [ 0.         -3.66666667  4.          4.33333333]\n",
      " [ 0.          0.          6.81818182  5.63636364]\n",
      " [ 0.          0.          0.          1.56      ]]\n",
      "LU: \n",
      " [[ 6.  1. -6. -5.]\n",
      " [ 4. -3.  0.  1.]\n",
      " [ 2.  2.  3.  2.]\n",
      " [ 0.  2.  0.  1.]]\n"
     ]
    }
   ],
   "source": [
    "P,L,U=lu(A)\n",
    "print('P: \\n',P)\n",
    "print('L: \\n',L)\n",
    "print('U: \\n',U)\n",
    "print('LU: \\n',np.dot(L,U))"
   ]
  },
  {
   "cell_type": "code",
   "execution_count": 50,
   "metadata": {
    "collapsed": true
   },
   "outputs": [],
   "source": [
    "#Diagonalization of the square matrix\n",
    "from scipy.linalg import inv,eig"
   ]
  },
  {
   "cell_type": "code",
   "execution_count": 77,
   "metadata": {
    "collapsed": true
   },
   "outputs": [],
   "source": [
    "#Input Square Matrix\n",
    "P=np.array([[2,2,3,2],[0,2,0,1],[4,-3,0,1],[6,1,-6,-5]])\n",
    "\n",
    "#Calculate Eigen values and Eigen vectors\n",
    "evals,evecs=eig(P)\n"
   ]
  },
  {
   "cell_type": "code",
   "execution_count": 78,
   "metadata": {
    "collapsed": false
   },
   "outputs": [
    {
     "name": "stdout",
     "output_type": "stream",
     "text": [
      "[-5.49538520+0.j -3.13217753+0.j  4.78855028+0.j  2.83901244+0.j]\n"
     ]
    }
   ],
   "source": [
    "print(evals)"
   ]
  },
  {
   "cell_type": "code",
   "execution_count": 79,
   "metadata": {
    "collapsed": false
   },
   "outputs": [
    {
     "name": "stdout",
     "output_type": "stream",
     "text": [
      "[[-0.1766478  -0.06458263 -0.76525282  0.21480661]\n",
      " [-0.1292218  -0.17675339 -0.02904638 -0.52185384]\n",
      " [-0.1182158  -0.37643443 -0.63795288  0.69987227]\n",
      " [ 0.96856714  0.90712978 -0.08099729 -0.43784186]]\n"
     ]
    }
   ],
   "source": [
    "print(evecs)"
   ]
  },
  {
   "cell_type": "code",
   "execution_count": 80,
   "metadata": {
    "collapsed": false
   },
   "outputs": [
    {
     "name": "stdout",
     "output_type": "stream",
     "text": [
      "[-5.49538520+0.j -3.13217753+0.j  4.78855028+0.j  2.83901244+0.j]\n"
     ]
    }
   ],
   "source": [
    "print(evals)"
   ]
  },
  {
   "cell_type": "code",
   "execution_count": 81,
   "metadata": {
    "collapsed": false
   },
   "outputs": [
    {
     "name": "stdout",
     "output_type": "stream",
     "text": [
      "[[-0.1766478  -0.06458263 -0.76525282  0.21480661]\n",
      " [-0.1292218  -0.17675339 -0.02904638 -0.52185384]\n",
      " [-0.1182158  -0.37643443 -0.63795288  0.69987227]\n",
      " [ 0.96856714  0.90712978 -0.08099729 -0.43784186]]\n"
     ]
    }
   ],
   "source": [
    "print(evecs)"
   ]
  },
  {
   "cell_type": "code",
   "execution_count": 82,
   "metadata": {
    "collapsed": false
   },
   "outputs": [],
   "source": [
    "#Diagonalization of the Square Matrix\n",
    "#input matrix(4*4)\n",
    "\n",
    "P=np.array([[2,2,3,2],[0,2,0,1],[4,-3,0,1],[6,1,-6,-5]])\n",
    "eigen_values,eigen_vectors=eig(P)\n"
   ]
  },
  {
   "cell_type": "code",
   "execution_count": 83,
   "metadata": {
    "collapsed": false
   },
   "outputs": [
    {
     "name": "stdout",
     "output_type": "stream",
     "text": [
      "[-5.49538520+0.j -3.13217753+0.j  4.78855028+0.j  2.83901244+0.j]\n"
     ]
    }
   ],
   "source": [
    "print(eigen_values)"
   ]
  },
  {
   "cell_type": "code",
   "execution_count": 84,
   "metadata": {
    "collapsed": false
   },
   "outputs": [
    {
     "name": "stdout",
     "output_type": "stream",
     "text": [
      "[[-0.1766478  -0.06458263 -0.76525282  0.21480661]\n",
      " [-0.1292218  -0.17675339 -0.02904638 -0.52185384]\n",
      " [-0.1182158  -0.37643443 -0.63795288  0.69987227]\n",
      " [ 0.96856714  0.90712978 -0.08099729 -0.43784186]]\n"
     ]
    }
   ],
   "source": [
    "print(eigen_vectors)"
   ]
  },
  {
   "cell_type": "code",
   "execution_count": 85,
   "metadata": {
    "collapsed": true
   },
   "outputs": [],
   "source": [
    "# Define the Diagonal matrix D using the eigen value array and\n",
    "# non singular matrix,S as the eigen vector array,finally determining S-inverse\n",
    "# completes the diagonalization, P=SDS^-1\n",
    "\n",
    "D=np.array([[eigen_values[0],0,0,0],[0,eigen_values[1],0,0],[0,0,eigen_values[2],0],[0,0,0,eigen_values[0]]])\n"
   ]
  },
  {
   "cell_type": "code",
   "execution_count": 86,
   "metadata": {
    "collapsed": true
   },
   "outputs": [],
   "source": [
    "S=eigen_vectors\n",
    "S_inv=inv(S)"
   ]
  },
  {
   "cell_type": "code",
   "execution_count": 87,
   "metadata": {
    "collapsed": false
   },
   "outputs": [
    {
     "name": "stdout",
     "output_type": "stream",
     "text": [
      "[[-2.17667012  1.39496862  2.40590465  1.11522707]\n",
      " [ 2.16609637 -2.24765063 -2.46980395 -0.20626255]\n",
      " [-1.02572877 -0.54496423 -0.27504912 -0.29334997]\n",
      " [-0.13758249 -1.47005002  0.25608719 -0.1899637 ]]\n"
     ]
    }
   ],
   "source": [
    "print(S_inv)\n"
   ]
  },
  {
   "cell_type": "code",
   "execution_count": 88,
   "metadata": {
    "collapsed": true
   },
   "outputs": [],
   "source": [
    "# Verify the result\n",
    "Z=S.dot(D.dot(S_inv))"
   ]
  },
  {
   "cell_type": "code",
   "execution_count": 89,
   "metadata": {
    "collapsed": false
   },
   "outputs": [
    {
     "name": "stdout",
     "output_type": "stream",
     "text": [
      "[[ 2.24631169+0.j  4.63180660+0.j  2.54153127+0.j  2.34008892+0.j]\n",
      " [-0.59839266+0.j -4.39374350+0.j  1.11380961+0.j  0.17378378+0.j]\n",
      " [ 4.80252056+0.j  5.57482206+0.j -1.49376014+0.j  2.10806088+0.j]\n",
      " [ 5.49794111+0.j -4.36443035+0.j -5.06549988+0.j -5.69320569+0.j]]\n"
     ]
    }
   ],
   "source": [
    "print(Z)"
   ]
  },
  {
   "cell_type": "code",
   "execution_count": 90,
   "metadata": {
    "collapsed": false
   },
   "outputs": [
    {
     "data": {
      "text/plain": [
       "array([[ 2.+0.j,  5.+0.j,  3.+0.j,  2.+0.j],\n",
       "       [-1.+0.j, -4.+0.j,  1.+0.j,  0.+0.j],\n",
       "       [ 5.+0.j,  6.+0.j, -1.+0.j,  2.+0.j],\n",
       "       [ 5.+0.j, -4.+0.j, -5.+0.j, -6.+0.j]])"
      ]
     },
     "execution_count": 90,
     "metadata": {},
     "output_type": "execute_result"
    }
   ],
   "source": [
    "np.rint(Z)"
   ]
  },
  {
   "cell_type": "code",
   "execution_count": 92,
   "metadata": {
    "collapsed": false
   },
   "outputs": [
    {
     "data": {
      "text/plain": [
       "array([[ 2.+0.j,  5.+0.j,  3.+0.j,  2.+0.j],\n",
       "       [-1.+0.j, -4.+0.j,  1.+0.j,  0.+0.j],\n",
       "       [ 5.+0.j,  6.+0.j, -1.+0.j,  2.+0.j],\n",
       "       [ 5.+0.j, -4.+0.j, -5.+0.j, -6.+0.j]])"
      ]
     },
     "execution_count": 92,
     "metadata": {},
     "output_type": "execute_result"
    }
   ],
   "source": [
    "np.rint(Z)"
   ]
  },
  {
   "cell_type": "code",
   "execution_count": 91,
   "metadata": {
    "collapsed": false
   },
   "outputs": [
    {
     "data": {
      "text/plain": [
       "array([[ 2.24631169,  4.6318066 ,  2.54153127,  2.34008892],\n",
       "       [ 0.59839266,  4.3937435 ,  1.11380961,  0.17378378],\n",
       "       [ 4.80252056,  5.57482206,  1.49376014,  2.10806088],\n",
       "       [ 5.49794111,  4.36443035,  5.06549988,  5.69320569]])"
      ]
     },
     "execution_count": 91,
     "metadata": {},
     "output_type": "execute_result"
    }
   ],
   "source": [
    "np.abs(Z)"
   ]
  },
  {
   "cell_type": "code",
   "execution_count": null,
   "metadata": {
    "collapsed": true
   },
   "outputs": [],
   "source": []
  }
 ],
 "metadata": {
  "kernelspec": {
   "display_name": "Python 3",
   "language": "python",
   "name": "python3"
  },
  "language_info": {
   "codemirror_mode": {
    "name": "ipython",
    "version": 3
   },
   "file_extension": ".py",
   "mimetype": "text/x-python",
   "name": "python",
   "nbconvert_exporter": "python",
   "pygments_lexer": "ipython3",
   "version": "3.5.1"
  }
 },
 "nbformat": 4,
 "nbformat_minor": 0
}
