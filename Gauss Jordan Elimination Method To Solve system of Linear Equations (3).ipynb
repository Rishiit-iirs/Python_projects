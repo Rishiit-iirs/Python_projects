{
 "cells": [
  {
   "cell_type": "code",
   "execution_count": 6,
   "metadata": {
    "collapsed": true
   },
   "outputs": [],
   "source": [
    "#GaussJordan Elimination method to solve the system of linear Equations\n",
    "import numpy as np\n"
   ]
  },
  {
   "cell_type": "code",
   "execution_count": 17,
   "metadata": {
    "collapsed": false
   },
   "outputs": [],
   "source": [
    "def gaussjordan(a,b):\n",
    "    a=np.array(a,float)\n",
    "    b=np.array(b,float)\n",
    "    n=len(b)\n",
    "    \n",
    "        #main loop\n",
    "    for k in range(n):\n",
    "            #Partial Pivoting\n",
    "            if np.fabs(a[k,k]) < 1.0e-12:\n",
    "                for i in range(k+1,n):\n",
    "                    if np.fabs(a[i,k]) > np.fabs(a[k,k]):\n",
    "                        for j in range(k,n):\n",
    "                            a[k,j],a[i,j]=a[i,j],a[k,j]\n",
    "                        b[k],b[i]=b[i],b[k]\n",
    "                        break\n",
    "        #Division of the Pivot row\n",
    "            pivot = a[k,k]\n",
    "            for j in range(k,n):\n",
    "                a[k,j]/=pivot\n",
    "            b[k]/=pivot     \n",
    "                # Elimination Loop\n",
    "            for i in range(n):\n",
    "                if i==k  or a[i,k]==0: continue\n",
    "                factor=a[i,k]\n",
    "                for j in range(k,n):\n",
    "                    a[i,j] -=factor*a[k,j]\n",
    "                b[i]-=factor*b[k]\n",
    "    return b,a"
   ]
  },
  {
   "cell_type": "code",
   "execution_count": 18,
   "metadata": {
    "collapsed": true
   },
   "outputs": [],
   "source": [
    "a=[[0,2,0,1],[2,2,3,2],[4,-3,0,1],[6,1,-6,-5]]\n",
    "b=[0,-2,-7,6]\n",
    "X,A=gaussjordan(a,b)"
   ]
  },
  {
   "cell_type": "code",
   "execution_count": 20,
   "metadata": {
    "collapsed": false
   },
   "outputs": [
    {
     "name": "stdout",
     "output_type": "stream",
     "text": [
      "The Solution is: \n",
      "[-0.5         1.          0.33333333 -2.        ]\n",
      "The Transformed matrix [a]:\n",
      "[[ 1.  0.  0.  0.]\n",
      " [ 0.  1.  0.  0.]\n",
      " [ 0.  0.  1.  0.]\n",
      " [ 0.  0.  0.  1.]]\n"
     ]
    }
   ],
   "source": [
    "print(\"The Solution is: \")\n",
    "print(X)\n",
    "print(\"The Transformed matrix [a]:\")\n",
    "print(A)"
   ]
  },
  {
   "cell_type": "code",
   "execution_count": null,
   "metadata": {
    "collapsed": true
   },
   "outputs": [],
   "source": []
  }
 ],
 "metadata": {
  "kernelspec": {
   "display_name": "Python 3",
   "language": "python",
   "name": "python3"
  },
  "language_info": {
   "codemirror_mode": {
    "name": "ipython",
    "version": 3
   },
   "file_extension": ".py",
   "mimetype": "text/x-python",
   "name": "python",
   "nbconvert_exporter": "python",
   "pygments_lexer": "ipython3",
   "version": "3.5.1"
  }
 },
 "nbformat": 4,
 "nbformat_minor": 0
}
