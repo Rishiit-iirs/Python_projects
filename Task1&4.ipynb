{
 "cells": [
  {
   "cell_type": "code",
   "execution_count": 98,
   "metadata": {
    "collapsed": true
   },
   "outputs": [],
   "source": [
    "#Read a matrix A froma csv file and a vector b from another csv file\n",
    "import numpy as np\n",
    "import pandas as pd\n",
    "from scipy.linalg import lu"
   ]
  },
  {
   "cell_type": "code",
   "execution_count": 99,
   "metadata": {
    "collapsed": false
   },
   "outputs": [],
   "source": [
    "A=pd.read_csv(\"C:/Users/user1/Desktop/matrix_data.csv\")"
   ]
  },
  {
   "cell_type": "code",
   "execution_count": 100,
   "metadata": {
    "collapsed": false
   },
   "outputs": [],
   "source": [
    "b=pd.read_csv(\"C:/Users/user1/Desktop/constant vector.csv\")"
   ]
  },
  {
   "cell_type": "code",
   "execution_count": 101,
   "metadata": {
    "collapsed": false
   },
   "outputs": [
    {
     "name": "stdout",
     "output_type": "stream",
     "text": [
      "A:--------------\n",
      "   1  2  3  4\n",
      "0  8 -2  0  2\n",
      "1 -2  4  3  6\n",
      "2  0  3  6 -1\n",
      "3  2  6 -1  5\n",
      "b:---------------\n",
      "   0  1  2   3\n",
      "0  9  6  2  15\n"
     ]
    }
   ],
   "source": [
    "print(\"A:--------------\")\n",
    "print(A)\n",
    "print(\"b:---------------\")\n",
    "print(b)"
   ]
  },
  {
   "cell_type": "code",
   "execution_count": 122,
   "metadata": {
    "collapsed": false
   },
   "outputs": [
    {
     "data": {
      "text/html": [
       "<div>\n",
       "<table border=\"1\" class=\"dataframe\">\n",
       "  <thead>\n",
       "    <tr style=\"text-align: right;\">\n",
       "      <th></th>\n",
       "      <th>1</th>\n",
       "      <th>2</th>\n",
       "      <th>3</th>\n",
       "      <th>4</th>\n",
       "    </tr>\n",
       "  </thead>\n",
       "  <tbody>\n",
       "    <tr>\n",
       "      <th>0</th>\n",
       "      <td>8</td>\n",
       "      <td>-2</td>\n",
       "      <td>0</td>\n",
       "      <td>2</td>\n",
       "    </tr>\n",
       "    <tr>\n",
       "      <th>1</th>\n",
       "      <td>-2</td>\n",
       "      <td>4</td>\n",
       "      <td>3</td>\n",
       "      <td>6</td>\n",
       "    </tr>\n",
       "    <tr>\n",
       "      <th>2</th>\n",
       "      <td>0</td>\n",
       "      <td>3</td>\n",
       "      <td>6</td>\n",
       "      <td>-1</td>\n",
       "    </tr>\n",
       "    <tr>\n",
       "      <th>3</th>\n",
       "      <td>2</td>\n",
       "      <td>6</td>\n",
       "      <td>-1</td>\n",
       "      <td>5</td>\n",
       "    </tr>\n",
       "  </tbody>\n",
       "</table>\n",
       "</div>"
      ],
      "text/plain": [
       "   1  2  3  4\n",
       "0  8 -2  0  2\n",
       "1 -2  4  3  6\n",
       "2  0  3  6 -1\n",
       "3  2  6 -1  5"
      ]
     },
     "execution_count": 122,
     "metadata": {},
     "output_type": "execute_result"
    }
   ],
   "source": [
    "A"
   ]
  },
  {
   "cell_type": "code",
   "execution_count": 102,
   "metadata": {
    "collapsed": false
   },
   "outputs": [],
   "source": [
    "X=np.array(A)\n",
    "c=np.array(b.transpose())"
   ]
  },
  {
   "cell_type": "code",
   "execution_count": 103,
   "metadata": {
    "collapsed": false
   },
   "outputs": [
    {
     "name": "stdout",
     "output_type": "stream",
     "text": [
      "[[ 8 -2  0  2]\n",
      " [-2  4  3  6]\n",
      " [ 0  3  6 -1]\n",
      " [ 2  6 -1  5]]\n",
      "[[ 9]\n",
      " [ 6]\n",
      " [ 2]\n",
      " [15]]\n"
     ]
    }
   ],
   "source": [
    "print(X)\n",
    "print(c)"
   ]
  },
  {
   "cell_type": "code",
   "execution_count": 104,
   "metadata": {
    "collapsed": false
   },
   "outputs": [],
   "source": [
    "Y=np.linalg.solve(X,c)"
   ]
  },
  {
   "cell_type": "code",
   "execution_count": 105,
   "metadata": {
    "collapsed": false
   },
   "outputs": [
    {
     "name": "stdout",
     "output_type": "stream",
     "text": [
      "[[ 1.34555785]\n",
      " [ 1.49173554]\n",
      " [-0.31095041]\n",
      " [ 0.60950413]]\n"
     ]
    }
   ],
   "source": [
    "print(Y)"
   ]
  },
  {
   "cell_type": "code",
   "execution_count": 106,
   "metadata": {
    "collapsed": true
   },
   "outputs": [],
   "source": [
    "#Solve the above equations using matrix inversion aproach\n",
    "X_inv=np.linalg.inv(X)\n",
    "X1=np.dot(X_inv,c)"
   ]
  },
  {
   "cell_type": "code",
   "execution_count": 107,
   "metadata": {
    "collapsed": false
   },
   "outputs": [
    {
     "name": "stdout",
     "output_type": "stream",
     "text": [
      "[[ 0.09349174 -0.07024793  0.04442149  0.05578512]\n",
      " [-0.07024793 -0.10743802  0.08264463  0.17355372]\n",
      " [ 0.04442149  0.08264463  0.10950413 -0.09504132]\n",
      " [ 0.05578512  0.17355372 -0.09504132 -0.04958678]]\n"
     ]
    }
   ],
   "source": [
    "print(X_inv)"
   ]
  },
  {
   "cell_type": "code",
   "execution_count": 108,
   "metadata": {
    "collapsed": false
   },
   "outputs": [
    {
     "name": "stdout",
     "output_type": "stream",
     "text": [
      "[[ 1.34555785]\n",
      " [ 1.49173554]\n",
      " [-0.31095041]\n",
      " [ 0.60950413]]\n"
     ]
    }
   ],
   "source": [
    "print(X1)"
   ]
  },
  {
   "cell_type": "code",
   "execution_count": 109,
   "metadata": {
    "collapsed": false
   },
   "outputs": [
    {
     "name": "stdout",
     "output_type": "stream",
     "text": [
      "P: \n",
      " [[ 1.  0.  0.  0.]\n",
      " [ 0.  0.  0.  1.]\n",
      " [ 0.  0.  1.  0.]\n",
      " [ 0.  1.  0.  0.]]\n",
      "L: \n",
      " [[ 1.          0.          0.          0.        ]\n",
      " [ 0.25        1.          0.          0.        ]\n",
      " [ 0.          0.46153846  1.          0.        ]\n",
      " [-0.25        0.53846154  0.54761905  1.        ]]\n",
      "U: \n",
      " [[ 8.         -2.          0.          2.        ]\n",
      " [ 0.          6.5        -1.          4.5       ]\n",
      " [ 0.          0.          6.46153846 -3.07692308]\n",
      " [ 0.          0.          0.          5.76190476]]\n",
      "LU: \n",
      " [[ 8. -2.  0.  2.]\n",
      " [ 2.  6. -1.  5.]\n",
      " [ 0.  3.  6. -1.]\n",
      " [-2.  4.  3.  6.]]\n"
     ]
    }
   ],
   "source": [
    "#perform the LU decomposition of the above matrix\n",
    "P,L,U=lu(X)\n",
    "print(\"P: \\n\",P)\n",
    "print(\"L: \\n\",L)\n",
    "print(\"U: \\n\",U)\n",
    "print(\"LU: \\n\",np.dot(L,U))"
   ]
  },
  {
   "cell_type": "code",
   "execution_count": 116,
   "metadata": {
    "collapsed": true
   },
   "outputs": [],
   "source": [
    "###Diagonalization of the square matrix\n",
    "from scipy.linalg import inv,eig"
   ]
  },
  {
   "cell_type": "code",
   "execution_count": 117,
   "metadata": {
    "collapsed": true
   },
   "outputs": [],
   "source": [
    "#Input Square Matrix\n",
    "Q=np.array(X)\n",
    "\n",
    "#Calculate Eigen values and Eigen vectors\n",
    "evals,evecs=eig(Q)"
   ]
  },
  {
   "cell_type": "code",
   "execution_count": 119,
   "metadata": {
    "collapsed": false
   },
   "outputs": [
    {
     "name": "stdout",
     "output_type": "stream",
     "text": [
      "[ -3.15614169+0.j   6.25296023+0.j   8.98439326+0.j  10.91878820+0.j]\n"
     ]
    }
   ],
   "source": [
    "print(evals)"
   ]
  },
  {
   "cell_type": "code",
   "execution_count": 120,
   "metadata": {
    "collapsed": false
   },
   "outputs": [
    {
     "name": "stdout",
     "output_type": "stream",
     "text": [
      "[[-0.23425601 -0.34263779  0.90908218 -0.03595899]\n",
      " [-0.69889917  0.03890237 -0.13771402  0.70075774]\n",
      " [ 0.29537495 -0.87561663 -0.24221849  0.29560001]\n",
      " [ 0.60779743  0.3382033   0.30973317  0.6482794 ]]\n"
     ]
    }
   ],
   "source": [
    "print(evecs)"
   ]
  },
  {
   "cell_type": "code",
   "execution_count": 110,
   "metadata": {
    "collapsed": false
   },
   "outputs": [],
   "source": [
    "#Define a Diagonal matrix D whose main diagonal elements are eigen values\n",
    "#and rest of the elenents are zeros\n",
    "D =np.array([[evals[0],0,0,0],[0,evals[1],0,0],[0,0,evals[2],0],[0,0,0,evals[3]]])"
   ]
  },
  {
   "cell_type": "code",
   "execution_count": 111,
   "metadata": {
    "collapsed": false
   },
   "outputs": [
    {
     "name": "stdout",
     "output_type": "stream",
     "text": [
      "[[ -3.15614169+0.j   0.00000000+0.j   0.00000000+0.j   0.00000000+0.j]\n",
      " [  0.00000000+0.j   6.25296023+0.j   0.00000000+0.j   0.00000000+0.j]\n",
      " [  0.00000000+0.j   0.00000000+0.j   8.98439326+0.j   0.00000000+0.j]\n",
      " [  0.00000000+0.j   0.00000000+0.j   0.00000000+0.j  10.91878820+0.j]]\n"
     ]
    }
   ],
   "source": [
    "print(D)"
   ]
  },
  {
   "cell_type": "code",
   "execution_count": 112,
   "metadata": {
    "collapsed": true
   },
   "outputs": [],
   "source": [
    "S=evecs\n",
    "S_inv=inv(S)"
   ]
  },
  {
   "cell_type": "code",
   "execution_count": 113,
   "metadata": {
    "collapsed": false
   },
   "outputs": [
    {
     "name": "stdout",
     "output_type": "stream",
     "text": [
      "[[-0.23425601 -0.69889917  0.29537495  0.60779743]\n",
      " [-0.34263779  0.03890237 -0.87561663  0.3382033 ]\n",
      " [ 0.90908218 -0.13771402 -0.24221849  0.30973317]\n",
      " [-0.03595899  0.70075774  0.29560001  0.6482794 ]]\n"
     ]
    }
   ],
   "source": [
    "print(S_inv)"
   ]
  },
  {
   "cell_type": "code",
   "execution_count": 114,
   "metadata": {
    "collapsed": false
   },
   "outputs": [],
   "source": [
    "#verify the result\n",
    "Z=S.dot(D.dot(S_inv))"
   ]
  },
  {
   "cell_type": "code",
   "execution_count": 115,
   "metadata": {
    "collapsed": false
   },
   "outputs": [
    {
     "name": "stdout",
     "output_type": "stream",
     "text": [
      "[[  8.00000000e+00+0.j  -2.00000000e+00+0.j  -3.87374930e-17+0.j\n",
      "    2.00000000e+00+0.j]\n",
      " [ -2.00000000e+00+0.j   4.00000000e+00+0.j   3.00000000e+00+0.j\n",
      "    6.00000000e+00+0.j]\n",
      " [  1.30474743e-15+0.j   3.00000000e+00+0.j   6.00000000e+00+0.j\n",
      "   -1.00000000e+00+0.j]\n",
      " [  2.00000000e+00+0.j   6.00000000e+00+0.j  -1.00000000e+00+0.j\n",
      "    5.00000000e+00+0.j]]\n"
     ]
    }
   ],
   "source": [
    "print(Z)"
   ]
  },
  {
   "cell_type": "code",
   "execution_count": 121,
   "metadata": {
    "collapsed": false
   },
   "outputs": [
    {
     "data": {
      "text/plain": [
       "array([[ 8.+0.j, -2.+0.j, -0.+0.j,  2.+0.j],\n",
       "       [-2.+0.j,  4.+0.j,  3.+0.j,  6.+0.j],\n",
       "       [ 0.+0.j,  3.+0.j,  6.+0.j, -1.+0.j],\n",
       "       [ 2.+0.j,  6.+0.j, -1.+0.j,  5.+0.j]])"
      ]
     },
     "execution_count": 121,
     "metadata": {},
     "output_type": "execute_result"
    }
   ],
   "source": [
    "np.rint(Z)"
   ]
  },
  {
   "cell_type": "code",
   "execution_count": null,
   "metadata": {
    "collapsed": true
   },
   "outputs": [],
   "source": []
  }
 ],
 "metadata": {
  "kernelspec": {
   "display_name": "Python 3",
   "language": "python",
   "name": "python3"
  },
  "language_info": {
   "codemirror_mode": {
    "name": "ipython",
    "version": 3
   },
   "file_extension": ".py",
   "mimetype": "text/x-python",
   "name": "python",
   "nbconvert_exporter": "python",
   "pygments_lexer": "ipython3",
   "version": "3.5.1"
  }
 },
 "nbformat": 4,
 "nbformat_minor": 0
}
